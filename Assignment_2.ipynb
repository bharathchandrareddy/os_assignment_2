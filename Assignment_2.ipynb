{
 "cells": [
  {
   "cell_type": "code",
   "execution_count": 8,
   "id": "10b01a79",
   "metadata": {},
   "outputs": [],
   "source": [
    "class Process:\n",
    "    def __init__(self, pid, tickets, priority):\n",
    "        self.pid = pid   #unique identifier\n",
    "        self.tickets = tickets  #Number of lottery tickets; initially set but adjusted by scheduler\n",
    "        self.priority = priority  # Priority level of the process, influencing ticket allocation\n",
    "        self.completed = False  # indicated whether the process is created or not\n",
    "    \n",
    "    def execute(self):\n",
    "        # Simulate execution by simply marking the process as completed\n",
    "        self.completed = True  #changing the state of execution method\n",
    "        print(f\"Process {self.pid} executed and completed.\")\n",
    "        \n",
    "    def __str__(self):\n",
    "        return f\"Process {self.pid}\"    #this is used to print the output\n",
    "\n"
   ]
  },
  {
   "cell_type": "code",
   "execution_count": 9,
   "id": "39dd190d",
   "metadata": {},
   "outputs": [],
   "source": [
    "import random\n",
    "\n",
    "class Scheduler:\n",
    "    def __init__(self):\n",
    "        self.processes = []   #creating an empty list, to store all process instances\n",
    "\n",
    "    def add_process(self, process):\n",
    "        self.processes.append(process)    #we are appending a new process to the list created in the above step\n",
    "        self.allocate_tickets()  # Adjust ticket allocation every time a new process is added\n",
    "\n",
    "    def allocate_tickets(self):\n",
    "        # dynamically Allocate tickets based on priority (simple example)\n",
    "        total_priority = sum(process.priority for process in self.processes)\n",
    "        for process in self.processes:\n",
    "            process.tickets = (process.priority / total_priority) * 100  # Allocate tickets as a function of priority\n",
    "            # Calculate tickets as a proportion of total priority\n",
    "\n",
    "    def select_next_process(self):\n",
    "        # Selects the next process to execute based on the lottery mechanism\n",
    "        if not self.processes:\n",
    "            return None\n",
    "        total_tickets = sum(process.tickets for process in self.processes if not process.completed)\n",
    "        winning_ticket = random.randint(1, int(total_tickets))\n",
    "        \n",
    "        current_ticket = 0\n",
    "        for process in self.processes:\n",
    "            if not process.completed:\n",
    "                current_ticket += process.tickets\n",
    "                if current_ticket >= winning_ticket:\n",
    "                    return process\n",
    "        return None\n",
    "    \n",
    "    def show_state(self):     #this function is used to represent the current state of the lottery system\n",
    "        for process in self.processes:\n",
    "            status = \"Completed\" if process.completed else \"Pending\"\n",
    "            print(f\"Process {process.pid}: Tickets = {process.tickets:.2f}, Status = {status}\")\n",
    "\n"
   ]
  },
  {
   "cell_type": "code",
   "execution_count": 11,
   "id": "1cd92022",
   "metadata": {},
   "outputs": [
    {
     "name": "stdout",
     "output_type": "stream",
     "text": [
      "Process 1: Tickets = 7.32, Status = Pending\n",
      "Process 2: Tickets = 53.66, Status = Pending\n",
      "Process 3: Tickets = 39.02, Status = Pending\n",
      "Process 3 wins the lottery!\n",
      "Process 3 executed and completed.\n",
      "Process 1: Tickets = 7.32, Status = Pending\n",
      "Process 2: Tickets = 53.66, Status = Pending\n",
      "Process 3: Tickets = 39.02, Status = Completed\n",
      "Process 2 wins the lottery!\n",
      "Process 2 executed and completed.\n",
      "Process 1: Tickets = 7.32, Status = Pending\n",
      "Process 2: Tickets = 53.66, Status = Completed\n",
      "Process 3: Tickets = 39.02, Status = Completed\n",
      "Process 1 wins the lottery!\n",
      "Process 1 executed and completed.\n",
      "Process 1: Tickets = 7.32, Status = Completed\n",
      "Process 2: Tickets = 53.66, Status = Completed\n",
      "Process 3: Tickets = 39.02, Status = Completed\n"
     ]
    }
   ],
   "source": [
    "def main():    # this is the main function used to call the remaining classes\n",
    "    scheduler = Scheduler()\n",
    "\n",
    "    # Add processes with varying priorities\n",
    "    scheduler.add_process(Process(1, 0, 3))  # Priority \n",
    "    scheduler.add_process(Process(2, 0, 22))  # Priority\n",
    "    scheduler.add_process(Process(3, 0, 16))  # Priority \n",
    "\n",
    "    # Allocate tickets dynamically based on priority\n",
    "    scheduler.allocate_tickets()\n",
    "\n",
    "    # Show initial state\n",
    "    scheduler.show_state()\n",
    "\n",
    "    # Simulate the scheduling and execution\n",
    "    for _ in range(3):  # loop to select and execute process\n",
    "        next_process = scheduler.select_next_process()\n",
    "        if next_process:\n",
    "            print(f\"{next_process} wins the lottery!\")\n",
    "            next_process.execute()     # run executing the selected process\n",
    "            scheduler.show_state()     #to show the updated state of the scheduler\n",
    "        else:\n",
    "            print(\"No more processes to schedule.\")\n",
    "\n",
    "if __name__ == \"__main__\":\n",
    "    main()\n"
   ]
  }
 ],
 "metadata": {
  "kernelspec": {
   "display_name": "Python 3 (ipykernel)",
   "language": "python",
   "name": "python3"
  },
  "language_info": {
   "codemirror_mode": {
    "name": "ipython",
    "version": 3
   },
   "file_extension": ".py",
   "mimetype": "text/x-python",
   "name": "python",
   "nbconvert_exporter": "python",
   "pygments_lexer": "ipython3",
   "version": "3.7.13"
  }
 },
 "nbformat": 4,
 "nbformat_minor": 5
}
